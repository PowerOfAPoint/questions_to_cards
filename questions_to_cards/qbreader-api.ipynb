{
 "cells": [
  {
   "cell_type": "code",
   "id": "8d50bff65c6c1d33",
   "metadata": {
    "ExecuteTime": {
     "end_time": "2025-03-18T18:36:26.768610Z",
     "start_time": "2025-03-18T18:36:26.398968Z"
    }
   },
   "source": [
    "%load_ext autoreload\n",
    "%autoreload 2\n",
    "\n",
    "import requests\n",
    "import json\n",
    "from io import StringIO\n",
    "from tqdm.notebook import tqdm\n",
    "import pandas as pd"
   ],
   "outputs": [],
   "execution_count": 1
  },
  {
   "cell_type": "code",
   "id": "828445c9-dd67-4aaf-b0f3-607e3104fbea",
   "metadata": {
    "ExecuteTime": {
     "end_time": "2025-03-18T18:36:29.567503Z",
     "start_time": "2025-03-18T18:36:29.556756Z"
    }
   },
   "source": [
    "questionType = 'all'\n",
    "difficulties = [4, 5, 6, 7, 8, 9, 10]\n",
    "categories = ['Literature', 'History', 'Science', 'Fine Arts', 'Religion', 'Mythology', 'Philosophy', 'Social Science', 'Geography', 'Other Academic']\n",
    "start_year = 2005\n",
    "end_year = 2025"
   ],
   "outputs": [],
   "execution_count": 2
  },
  {
   "cell_type": "code",
   "execution_count": 83,
   "id": "6b45ffe9-93df-47fb-841d-b76e172d46b2",
   "metadata": {
    "scrolled": true
   },
   "outputs": [
    {
     "data": {
      "application/vnd.jupyter.widget-view+json": {
       "model_id": "006ed67bd6af44e59c609b6e3941f284",
       "version_major": 2,
       "version_minor": 0
      },
      "text/plain": [
       "  0%|          | 0/21 [00:00<?, ?it/s]"
      ]
     },
     "metadata": {},
     "output_type": "display_data"
    },
    {
     "name": "stdout",
     "output_type": "stream",
     "text": [
      "Parsed 1637 tossups and 1606 bonuses for year 2005\n",
      "Parsed 2332 tossups and 2261 bonuses for year 2006\n",
      "Parsed 2104 tossups and 1741 bonuses for year 2007\n",
      "Parsed 3887 tossups and 3446 bonuses for year 2008\n",
      "Parsed 5514 tossups and 5022 bonuses for year 2009\n",
      "Parsed 6892 tossups and 6127 bonuses for year 2010\n",
      "Parsed 6532 tossups and 6120 bonuses for year 2011\n",
      "Parsed 7705 tossups and 6521 bonuses for year 2012\n",
      "Parsed 6437 tossups and 6040 bonuses for year 2013\n",
      "Parsed 7034 tossups and 6278 bonuses for year 2014\n",
      "Parsed 7519 tossups and 6432 bonuses for year 2015\n",
      "Parsed 6239 tossups and 6037 bonuses for year 2016\n",
      "Parsed 8106 tossups and 6538 bonuses for year 2017\n",
      "Parsed 7938 tossups and 6436 bonuses for year 2018\n",
      "Parsed 8794 tossups and 7156 bonuses for year 2019\n",
      "Parsed 6422 tossups and 4939 bonuses for year 2020\n",
      "Parsed 8937 tossups and 7029 bonuses for year 2021\n",
      "Parsed 7082 tossups and 5827 bonuses for year 2022\n",
      "Parsed 9141 tossups and 7257 bonuses for year 2023\n",
      "Parsed 5209 tossups and 3967 bonuses for year 2024\n",
      "Parsed 321 tossups and 321 bonuses for year 2025\n"
     ]
    }
   ],
   "source": [
    "qbr_query_url = 'https://www.qbreader.org/api/query'\n",
    "qbr_query_params = {\n",
    "    'questionType': questionType,\n",
    "    'difficulties': difficulties,\n",
    "    'categories': categories,\n",
    "    'maxReturnLength': 10_000,\n",
    "}\n",
    "questions_tu = []\n",
    "questions_b = []\n",
    "\n",
    "for year in tqdm(range(start_year, end_year + 1)):\n",
    "    try:\n",
    "        qbr_query_params['minYear'] = qbr_query_params['maxYear'] = year\n",
    "        response = requests.get(qbr_query_url, params=qbr_query_params)\n",
    "    \n",
    "        response.raise_for_status()\n",
    "        \n",
    "        try:\n",
    "            data = response.json()\n",
    "            \n",
    "            t = data['tossups']['questionArray']\n",
    "            b = data['bonuses']['questionArray']\n",
    "            \n",
    "            questions_tu.extend(t)\n",
    "            questions_b.extend(b)\n",
    "            \n",
    "            print(f'Parsed {len(t)} tossup{'s' if len(t) != 1 else ''} and {len(b)} bonus{'es' if len(b) != 1 else ''} for year {year}')\n",
    "        except ValueError:\n",
    "            print(f'Could not parse JSON for year {year}')\n",
    "    except requests.exceptions.HTTPError as e:\n",
    "        print(f'HTTP error occurred: {e}')\n",
    "    except requests.exceptions.RequestException as e:\n",
    "        print(f'A request exception occurred: {e}')"
   ]
  },
  {
   "cell_type": "code",
   "id": "1c7aa070-40c6-4832-95ec-24f2c0af5d32",
   "metadata": {
    "ExecuteTime": {
     "end_time": "2025-03-18T08:52:51.210154Z",
     "start_time": "2025-03-18T08:52:51.196931Z"
    }
   },
   "source": [
    "tu_dir = 'tossups.json'\n",
    "b_dir = 'bonuses.json'"
   ],
   "outputs": [],
   "execution_count": 3
  },
  {
   "cell_type": "code",
   "execution_count": 90,
   "id": "ed7fa885-c929-47b2-8772-8ae2b8956649",
   "metadata": {
    "scrolled": true
   },
   "outputs": [],
   "source": [
    "with open(tu_dir, 'w') as f:\n",
    "    json.dump(questions_tu, f)\n",
    "\n",
    "with open(b_dir, 'w') as f:\n",
    "    json.dump(questions_b, f)"
   ]
  },
  {
   "cell_type": "code",
   "id": "7e7ec966-9db8-4848-a888-104fc758fb8e",
   "metadata": {
    "ExecuteTime": {
     "end_time": "2025-03-18T08:54:30.833464Z",
     "start_time": "2025-03-18T08:54:29.809520Z"
    }
   },
   "source": "tu = pd.read_json(tu_dir)",
   "outputs": [],
   "execution_count": 5
  }
 ],
 "metadata": {
  "kernelspec": {
   "display_name": "Python 3 (ipykernel)",
   "language": "python",
   "name": "python3"
  },
  "language_info": {
   "codemirror_mode": {
    "name": "ipython",
    "version": 3
   },
   "file_extension": ".py",
   "mimetype": "text/x-python",
   "name": "python",
   "nbconvert_exporter": "python",
   "pygments_lexer": "ipython3",
   "version": "3.12.9"
  }
 },
 "nbformat": 4,
 "nbformat_minor": 5
}
